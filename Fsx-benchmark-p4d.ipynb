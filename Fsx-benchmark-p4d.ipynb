{
 "cells": [
  {
   "cell_type": "code",
   "execution_count": null,
   "metadata": {},
   "outputs": [],
   "source": [
    "region = # region\n",
    "instance_type = \"ml.p4d.24xlarge\"\n",
    "instance_count = 1\n",
    "role = # role\n",
    "fsx_id = # FSx id\n",
    "subnet_id = # Subnet as a list example: [\"subnet-01245568848\"]\n",
    "sg_id = # Security group as a list [\"sg-12345678\"]\n",
    "#training_image = \"763104351884.dkr.ecr.us-east-1.amazonaws.com/pytorch-training:1.12.1-cpu-py38-ubuntu20.04-sagemaker\"\n",
    "training_image = \"763104351884.dkr.ecr.us-east-1.amazonaws.com/pytorch-training:1.12.1-gpu-py38-cu113-ubuntu20.04-sagemaker\""
   ]
  },
  {
   "cell_type": "code",
   "execution_count": null,
   "metadata": {},
   "outputs": [],
   "source": [
    "import sagemaker\n"
   ]
  },
  {
   "cell_type": "code",
   "execution_count": null,
   "metadata": {},
   "outputs": [],
   "source": [
    "import boto3\n",
    "\n",
    "session = boto3.session.Session(region_name=region)\n",
    "aws_region = session.region_name\n",
    "print(aws_region)"
   ]
  },
  {
   "cell_type": "code",
   "execution_count": null,
   "metadata": {},
   "outputs": [],
   "source": [
    "from sagemaker.inputs import FileSystemInput\n",
    "\n",
    "file_system_directory_path = '/fsx'\n",
    "file_system_access_mode = 'ro'\n",
    "\n",
    "# Specify your file system type.\n",
    "file_system_type = 'FSxLustre'\n",
    "\n",
    "train = FileSystemInput(file_system_id=fsx_id,\n",
    "                                    file_system_type=file_system_type,\n",
    "                                    directory_path=file_system_directory_path,\n",
    "                                    file_system_access_mode=file_system_access_mode)\n",
    "\n",
    "data_channels = {'fsx': train}"
   ]
  },
  {
   "cell_type": "code",
   "execution_count": null,
   "metadata": {},
   "outputs": [],
   "source": [
    "from sagemaker.pytorch.estimator import PyTorch\n",
    "\n",
    "sagemaker_session = sagemaker.session.Session(boto_session=session)\n",
    "\n",
    "estimator = PyTorch(\n",
    "    image_uri=training_image,\n",
    "    role=role,\n",
    "    py_version='py3',\n",
    "    instance_count=instance_count, \n",
    "    instance_type=instance_type,\n",
    "    entry_point=\"script.py\",\n",
    "    volume_size = 100,\n",
    "    max_run = 400000,\n",
    "    output_path= , # output path\n",
    "    sagemaker_session=sagemaker_session,\n",
    "    subnets=subnet_id,\n",
    "    security_group_ids=sg_id\n",
    ")"
   ]
  },
  {
   "cell_type": "code",
   "execution_count": null,
   "metadata": {},
   "outputs": [],
   "source": [
    "estimator.fit(inputs=data_channels, job_name=\"benchmark-fsx-ml-m5-4xlarge-001\", wait=True)"
   ]
  },
  {
   "cell_type": "code",
   "execution_count": null,
   "metadata": {},
   "outputs": [],
   "source": []
  }
 ],
 "metadata": {
  "instance_type": "ml.t3.medium",
  "kernelspec": {
   "display_name": "Python 3 (Data Science)",
   "language": "python",
   "name": "python3__SAGEMAKER_INTERNAL__arn:aws:sagemaker:ap-southeast-2:452832661640:image/datascience-1.0"
  },
  "language_info": {
   "codemirror_mode": {
    "name": "ipython",
    "version": 3
   },
   "file_extension": ".py",
   "mimetype": "text/x-python",
   "name": "python",
   "nbconvert_exporter": "python",
   "pygments_lexer": "ipython3",
   "version": "3.7.10"
  },
  "lcc_arn": "arn:aws:sagemaker:ap-southeast-2:734840029783:studio-lifecycle-config/sdocker-kg"
 },
 "nbformat": 4,
 "nbformat_minor": 4
}
